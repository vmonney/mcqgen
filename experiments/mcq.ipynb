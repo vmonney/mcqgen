{
 "cells": [
  {
   "cell_type": "code",
   "execution_count": 18,
   "metadata": {},
   "outputs": [
    {
     "data": {
      "text/plain": [
       "True"
      ]
     },
     "execution_count": 18,
     "metadata": {},
     "output_type": "execute_result"
    }
   ],
   "source": [
    "import json\n",
    "from pathlib import Path\n",
    "\n",
    "import pandas as pd\n",
    "from dotenv import load_dotenv\n",
    "from langchain.callbacks import get_openai_callback\n",
    "from langchain.chains import LLMChain, SequentialChain\n",
    "from langchain.chat_models import ChatOpenAI\n",
    "from langchain.prompts import PromptTemplate\n",
    "\n",
    "load_dotenv()  # take environment variables from .env."
   ]
  },
  {
   "cell_type": "code",
   "execution_count": 4,
   "metadata": {},
   "outputs": [],
   "source": [
    "llm = ChatOpenAI(\n",
    "    model_name=\"gpt-3.5-turbo\",\n",
    "    temperature=0.5,\n",
    ")"
   ]
  },
  {
   "cell_type": "code",
   "execution_count": 12,
   "metadata": {},
   "outputs": [],
   "source": [
    "RESPONSE_JSON = {\n",
    "    \"mcqs\": [\n",
    "        {\n",
    "            \"question\": \"Example question 1?\",\n",
    "            \"options\": {\n",
    "                \"A\": \"Option A\",\n",
    "                \"B\": \"Option B\",\n",
    "                \"C\": \"Option C\",\n",
    "                \"D\": \"Option D\",\n",
    "            },\n",
    "            \"answer\": \"A\",\n",
    "        },\n",
    "        # //... {number} MCQs in total\n",
    "    ],\n",
    "}"
   ]
  },
  {
   "cell_type": "code",
   "execution_count": 13,
   "metadata": {},
   "outputs": [],
   "source": [
    "TEMPLATE = \"\"\"\n",
    "Text: {text}\n",
    "You are an expert MCQ maker. Given the above text, your job is to\n",
    "create {number} multiple choice questions for {subject} students.\n",
    "The questions should be:\n",
    "- Appropriate for the {difficulty_level} level\n",
    "- Non-repetitive and directly relevant to the text\n",
    "- Accurate and educational\n",
    "\n",
    "Format your response according to the RESPONSE_JSON structure provided below.\n",
    "Ensure the MCQs are clearly numbered and include a question with four options\n",
    "(A, B, C, D), one of which is the correct answer.\n",
    "\n",
    "### RESPONSE_JSON\n",
    "{response_json}\n",
    "\"\"\""
   ]
  },
  {
   "cell_type": "code",
   "execution_count": 11,
   "metadata": {},
   "outputs": [],
   "source": [
    "quiz_generation_prompt = PromptTemplate(\n",
    "    input_variables=[\"text\", \"number\", \"subject\", \"difficulty_level\", \"response_json\"],\n",
    "    template=TEMPLATE,\n",
    ")"
   ]
  },
  {
   "cell_type": "code",
   "execution_count": 14,
   "metadata": {},
   "outputs": [],
   "source": [
    "quiz_chain = LLMChain(\n",
    "    llm=llm,\n",
    "    prompt=quiz_generation_prompt,\n",
    "    output_key=\"quiz\",\n",
    "    verbose=True,\n",
    ")"
   ]
  },
  {
   "cell_type": "code",
   "execution_count": 15,
   "metadata": {},
   "outputs": [],
   "source": [
    "TEMPLATE2 = \"\"\"\n",
    "You are an expert English grammarian and writer. Your task is to evaluate a\n",
    "Multiple Choice Quiz designed for {subject} students.\n",
    "Please provide:\n",
    "1. A brief analysis (max 50 words) on the complexity of the quiz, focusing on\n",
    "its suitability for the intended cognitive and analytical abilities of the students.\n",
    "2. Recommendations for modifications if the quiz does not align well with the\n",
    "students' abilities. This includes updating any questions and adjusting the\n",
    "difficulty level to better fit the students' capabilities.\n",
    "\n",
    "### Quiz_MCQs:\n",
    "{quiz}\n",
    "\n",
    "### Expert English Writer's Evaluation:\n",
    "\"\"\""
   ]
  },
  {
   "cell_type": "code",
   "execution_count": 16,
   "metadata": {},
   "outputs": [],
   "source": [
    "quiz_evaluation_prompt = PromptTemplate(\n",
    "    input_variables=[\"subject\", \"quiz\"],\n",
    "    template=TEMPLATE2,\n",
    ")"
   ]
  },
  {
   "cell_type": "code",
   "execution_count": 17,
   "metadata": {},
   "outputs": [],
   "source": [
    "review_chain = LLMChain(\n",
    "    llm=llm,\n",
    "    prompt=quiz_evaluation_prompt,\n",
    "    output_key=\"review\",\n",
    "    verbose=True,\n",
    ")"
   ]
  },
  {
   "cell_type": "code",
   "execution_count": 29,
   "metadata": {},
   "outputs": [],
   "source": [
    "generate_evaluate_chain = SequentialChain(\n",
    "    chains=[quiz_chain, review_chain],\n",
    "    input_variables=[\"text\", \"number\", \"subject\", \"difficulty_level\", \"response_json\"],\n",
    "    output_variables=[\"quiz\", \"review\"],\n",
    "    verbose=True,\n",
    ")"
   ]
  },
  {
   "cell_type": "code",
   "execution_count": 21,
   "metadata": {},
   "outputs": [],
   "source": [
    "file_path = \"/Users/valentinmonney/Desktop/Generative_ai/mcqgen/data.txt\"\n",
    "with Path(file_path).open() as file:\n",
    "    TEXT = file.read()"
   ]
  },
  {
   "cell_type": "code",
   "execution_count": 23,
   "metadata": {},
   "outputs": [
    {
     "data": {
      "text/plain": [
       "'{\"mcqs\": [{\"question\": \"Example question 1?\", \"options\": {\"A\": \"Option A\", \"B\": \"Option B\", \"C\": \"Option C\", \"D\": \"Option D\"}, \"answer\": \"A\"}]}'"
      ]
     },
     "execution_count": 23,
     "metadata": {},
     "output_type": "execute_result"
    }
   ],
   "source": [
    "# Serialize the Python dictionary into a JSON-formatted string\n",
    "json.dumps(RESPONSE_JSON)"
   ]
  },
  {
   "cell_type": "code",
   "execution_count": 27,
   "metadata": {},
   "outputs": [],
   "source": [
    "NUMBER = 5\n",
    "SUBJECT = \"machine learning\"\n",
    "DIFFICULTY_LEVEL = \"easy\""
   ]
  },
  {
   "cell_type": "code",
   "execution_count": 32,
   "metadata": {},
   "outputs": [
    {
     "name": "stdout",
     "output_type": "stream",
     "text": [
      "\n",
      "\n",
      "\u001b[1m> Entering new SequentialChain chain...\u001b[0m\n",
      "\n",
      "\n",
      "\u001b[1m> Entering new LLMChain chain...\u001b[0m\n",
      "Prompt after formatting:\n",
      "\u001b[32;1m\u001b[1;3m\n",
      "Text: The term machine learning was coined in 1959 by Arthur Samuel, an IBM employee and pioneer in the field of computer gaming and artificial intelligence. The synonym self-teaching computers was also used in this time period.\n",
      "\n",
      "Although the earliest machine learning model was introduced in the 1950s when Arthur Samuel invented a program that calculated the winning chance in checkers for each side, the history of machine learning roots back to decades of human desire and effort to study human cognitive processes. In 1949, Canadian psychologist Donald Hebb published the book The Organization of Behavior, in which he introduced a theoretical neural structure formed by certain interactions among nerve cells. Hebb's model of neurons interacting with one another set a groundwork for how AIs and machine learning algorithms work under nodes, or artificial neurons used by computers to communicate data. Other researchers who have studied human cognitive systems contributed to the modern machine learning technologies as well, including logician Walter Pitts and Warren McCulloch, who proposed the early mathematical models of neural networks to come up with algorithms that mirror human thought processes.\n",
      "\n",
      "By the early 1960s an experimental \"learning machine\" with punched tape memory, called Cybertron, had been developed by Raytheon Company to analyze sonar signals, electrocardiograms, and speech patterns using rudimentary reinforcement learning. It was repetitively \"trained\" by a human operator/teacher to recognize patterns and equipped with a \"goof\" button to cause it to re-evaluate incorrect decisions. A representative book on research into machine learning during the 1960s was Nilsson's book on Learning Machines, dealing mostly with machine learning for pattern classification. Interest related to pattern recognition continued into the 1970s, as described by Duda and Hart in 1973. In 1981 a report was given on using teaching strategies so that a neural network learns to recognize 40 characters (26 letters, 10 digits, and 4 special symbols) from a computer terminal.\n",
      "\n",
      "Tom M. Mitchell provided a widely quoted, more formal definition of the algorithms studied in the machine learning field: \"A computer program is said to learn from experience E with respect to some class of tasks T and performance measure P if its performance at tasks in T, as measured by P, improves with experience E.\"This definition of the tasks in which machine learning is concerned offers a fundamentally operational definition rather than defining the field in cognitive terms. This follows Alan Turing's proposal in his paper \"Computing Machinery and Intelligence\", in which the question \"Can machines think?\" is replaced with the question \"Can machines do what we (as thinking entities) can do?\".\n",
      "\n",
      "Modern-day machine learning has two objectives, one is to classify data based on models which have been developed, the other purpose is to make predictions for future outcomes based on these models. A hypothetical algorithm specific to classifying data may use computer vision of moles coupled with supervised learning in order to train it to classify the cancerous moles. A machine learning algorithm for stock trading may inform the trader of future potential predictions.\n",
      "You are an expert MCQ maker. Given the above text, your job is to\n",
      "create 5 multiple choice questions for machine learning students.\n",
      "The questions should be:\n",
      "- Appropriate for the easy level\n",
      "- Non-repetitive and directly relevant to the text\n",
      "- Accurate and educational\n",
      "\n",
      "Format your response according to the RESPONSE_JSON structure provided below.\n",
      "Ensure the MCQs are clearly numbered and include a question with four options\n",
      "(A, B, C, D), one of which is the correct answer.\n",
      "\n",
      "### RESPONSE_JSON\n",
      "{\"mcqs\": [{\"question\": \"Example question 1?\", \"options\": {\"A\": \"Option A\", \"B\": \"Option B\", \"C\": \"Option C\", \"D\": \"Option D\"}, \"answer\": \"A\"}]}\n",
      "\u001b[0m\n",
      "\n",
      "\u001b[1m> Finished chain.\u001b[0m\n",
      "\n",
      "\n",
      "\u001b[1m> Entering new LLMChain chain...\u001b[0m\n",
      "Prompt after formatting:\n",
      "\u001b[32;1m\u001b[1;3m\n",
      "You are an expert English grammarian and writer. Your task is to evaluate a\n",
      "Multiple Choice Quiz designed for machine learning students.\n",
      "Please provide:\n",
      "1. A brief analysis (max 50 words) on the complexity of the quiz, focusing on\n",
      "its suitability for the intended cognitive and analytical abilities of the students.\n",
      "2. Recommendations for modifications if the quiz does not align well with the\n",
      "students' abilities. This includes updating any questions and adjusting the\n",
      "difficulty level to better fit the students' capabilities.\n",
      "\n",
      "### Quiz_MCQs:\n",
      "{\"mcqs\": [{\"question\": \"Who coined the term 'machine learning'?\", \"options\": {\"A\": \"Arthur Samuel\", \"B\": \"Donald Hebb\", \"C\": \"Walter Pitts\", \"D\": \"Warren McCulloch\"}, \"answer\": \"A\"}, \n",
      "           {\"question\": \"In which year was the term 'machine learning' coined?\", \"options\": {\"A\": \"1950\", \"B\": \"1959\", \"C\": \"1960\", \"D\": \"1973\"}, \"answer\": \"B\"},\n",
      "           {\"question\": \"Which book introduced a theoretical neural structure formed by certain interactions among nerve cells?\", \"options\": {\"A\": \"The Organization of Behavior\", \"B\": \"Learning Machines\", \"C\": \"Computing Machinery and Intelligence\", \"D\": \"Research into Machine Learning\"}, \"answer\": \"A\"},\n",
      "           {\"question\": \"What was the purpose of the Cybertron machine developed by Raytheon Company?\", \"options\": {\"A\": \"To analyze sonar signals\", \"B\": \"To analyze electrocardiograms\", \"C\": \"To analyze speech patterns\", \"D\": \"All of the above\"}, \"answer\": \"D\"},\n",
      "           {\"question\": \"What are the two objectives of modern-day machine learning?\", \"options\": {\"A\": \"To classify data and make predictions\", \"B\": \"To analyze sonar signals and electrocardiograms\", \"C\": \"To study human cognitive processes\", \"D\": \"To develop theoretical neural structures\"}, \"answer\": \"A\"}]}\n",
      "\n",
      "### Expert English Writer's Evaluation:\n",
      "\u001b[0m\n",
      "\n",
      "\u001b[1m> Finished chain.\u001b[0m\n",
      "\n",
      "\u001b[1m> Finished chain.\u001b[0m\n"
     ]
    }
   ],
   "source": [
    "# https://python.langchain.com/docs/modules/model_io/llms/token_usage_tracking\n",
    "\n",
    "# How to setup Token Usage Tracking in LangChain\n",
    "with get_openai_callback() as cb:\n",
    "    response = generate_evaluate_chain(\n",
    "        {\n",
    "            \"text\": TEXT,\n",
    "            \"number\": NUMBER,\n",
    "            \"subject\": SUBJECT,\n",
    "            \"difficulty_level\": DIFFICULTY_LEVEL,\n",
    "            \"response_json\": json.dumps(RESPONSE_JSON),\n",
    "        },\n",
    "    )"
   ]
  },
  {
   "cell_type": "code",
   "execution_count": 33,
   "metadata": {},
   "outputs": [
    {
     "name": "stdout",
     "output_type": "stream",
     "text": [
      "Total Tokens:1697\n",
      "Prompt Tokens:1226\n",
      "Completion Tokens:471\n",
      "Total Cost:0.002781\n"
     ]
    }
   ],
   "source": [
    "print(f\"Total Tokens:{cb.total_tokens}\")\n",
    "print(f\"Prompt Tokens:{cb.prompt_tokens}\")\n",
    "print(f\"Completion Tokens:{cb.completion_tokens}\")\n",
    "print(f\"Total Cost:{cb.total_cost}\")"
   ]
  },
  {
   "cell_type": "code",
   "execution_count": 34,
   "metadata": {},
   "outputs": [
    {
     "data": {
      "text/plain": [
       "{'text': 'The term machine learning was coined in 1959 by Arthur Samuel, an IBM employee and pioneer in the field of computer gaming and artificial intelligence. The synonym self-teaching computers was also used in this time period.\\n\\nAlthough the earliest machine learning model was introduced in the 1950s when Arthur Samuel invented a program that calculated the winning chance in checkers for each side, the history of machine learning roots back to decades of human desire and effort to study human cognitive processes. In 1949, Canadian psychologist Donald Hebb published the book The Organization of Behavior, in which he introduced a theoretical neural structure formed by certain interactions among nerve cells. Hebb\\'s model of neurons interacting with one another set a groundwork for how AIs and machine learning algorithms work under nodes, or artificial neurons used by computers to communicate data. Other researchers who have studied human cognitive systems contributed to the modern machine learning technologies as well, including logician Walter Pitts and Warren McCulloch, who proposed the early mathematical models of neural networks to come up with algorithms that mirror human thought processes.\\n\\nBy the early 1960s an experimental \"learning machine\" with punched tape memory, called Cybertron, had been developed by Raytheon Company to analyze sonar signals, electrocardiograms, and speech patterns using rudimentary reinforcement learning. It was repetitively \"trained\" by a human operator/teacher to recognize patterns and equipped with a \"goof\" button to cause it to re-evaluate incorrect decisions. A representative book on research into machine learning during the 1960s was Nilsson\\'s book on Learning Machines, dealing mostly with machine learning for pattern classification. Interest related to pattern recognition continued into the 1970s, as described by Duda and Hart in 1973. In 1981 a report was given on using teaching strategies so that a neural network learns to recognize 40 characters (26 letters, 10 digits, and 4 special symbols) from a computer terminal.\\n\\nTom M. Mitchell provided a widely quoted, more formal definition of the algorithms studied in the machine learning field: \"A computer program is said to learn from experience E with respect to some class of tasks T and performance measure P if its performance at tasks in T, as measured by P, improves with experience E.\"This definition of the tasks in which machine learning is concerned offers a fundamentally operational definition rather than defining the field in cognitive terms. This follows Alan Turing\\'s proposal in his paper \"Computing Machinery and Intelligence\", in which the question \"Can machines think?\" is replaced with the question \"Can machines do what we (as thinking entities) can do?\".\\n\\nModern-day machine learning has two objectives, one is to classify data based on models which have been developed, the other purpose is to make predictions for future outcomes based on these models. A hypothetical algorithm specific to classifying data may use computer vision of moles coupled with supervised learning in order to train it to classify the cancerous moles. A machine learning algorithm for stock trading may inform the trader of future potential predictions.',\n",
       " 'number': 5,\n",
       " 'subject': 'machine learning',\n",
       " 'difficulty_level': 'easy',\n",
       " 'response_json': '{\"mcqs\": [{\"question\": \"Example question 1?\", \"options\": {\"A\": \"Option A\", \"B\": \"Option B\", \"C\": \"Option C\", \"D\": \"Option D\"}, \"answer\": \"A\"}]}',\n",
       " 'quiz': '{\"mcqs\": [{\"question\": \"Who coined the term \\'machine learning\\'?\", \"options\": {\"A\": \"Arthur Samuel\", \"B\": \"Donald Hebb\", \"C\": \"Walter Pitts\", \"D\": \"Warren McCulloch\"}, \"answer\": \"A\"}, \\n           {\"question\": \"In which year was the term \\'machine learning\\' coined?\", \"options\": {\"A\": \"1950\", \"B\": \"1959\", \"C\": \"1960\", \"D\": \"1973\"}, \"answer\": \"B\"},\\n           {\"question\": \"Which book introduced a theoretical neural structure formed by certain interactions among nerve cells?\", \"options\": {\"A\": \"The Organization of Behavior\", \"B\": \"Learning Machines\", \"C\": \"Computing Machinery and Intelligence\", \"D\": \"Research into Machine Learning\"}, \"answer\": \"A\"},\\n           {\"question\": \"What was the purpose of the Cybertron machine developed by Raytheon Company?\", \"options\": {\"A\": \"To analyze sonar signals\", \"B\": \"To analyze electrocardiograms\", \"C\": \"To analyze speech patterns\", \"D\": \"All of the above\"}, \"answer\": \"D\"},\\n           {\"question\": \"What are the two objectives of modern-day machine learning?\", \"options\": {\"A\": \"To classify data and make predictions\", \"B\": \"To analyze sonar signals and electrocardiograms\", \"C\": \"To study human cognitive processes\", \"D\": \"To develop theoretical neural structures\"}, \"answer\": \"A\"}]}',\n",
       " 'review': \"1. The complexity of the quiz is moderate. It requires basic knowledge of the history and concepts of machine learning. The questions are straightforward and do not involve complex reasoning or analysis. It is suitable for students with introductory-level understanding of the subject.\\n\\n2. If the quiz needs to be modified to better align with the students' abilities, the following recommendations can be considered:\\n- Include more questions that require critical thinking and analysis, rather than just factual knowledge.\\n- Provide explanations or additional information for each answer choice, to enhance the learning experience.\\n- Add questions that cover a wider range of topics within machine learning, to assess a broader understanding of the subject.\\n- Adjust the difficulty level by including questions that require applying concepts to real-world scenarios or problem-solving tasks.\"}"
      ]
     },
     "execution_count": 34,
     "metadata": {},
     "output_type": "execute_result"
    }
   ],
   "source": [
    "response"
   ]
  },
  {
   "cell_type": "code",
   "execution_count": 38,
   "metadata": {},
   "outputs": [],
   "source": [
    "quiz = json.loads(response.get(\"quiz\"))"
   ]
  },
  {
   "cell_type": "code",
   "execution_count": 43,
   "metadata": {},
   "outputs": [
    {
     "data": {
      "text/plain": [
       "dict_keys(['mcqs'])"
      ]
     },
     "execution_count": 43,
     "metadata": {},
     "output_type": "execute_result"
    }
   ],
   "source": [
    "quiz.keys()"
   ]
  },
  {
   "cell_type": "code",
   "execution_count": 49,
   "metadata": {},
   "outputs": [
    {
     "data": {
      "text/plain": [
       "dict_items([('mcqs', [{'question': \"Who coined the term 'machine learning'?\", 'options': {'A': 'Arthur Samuel', 'B': 'Donald Hebb', 'C': 'Walter Pitts', 'D': 'Warren McCulloch'}, 'answer': 'A'}, {'question': \"In which year was the term 'machine learning' coined?\", 'options': {'A': '1950', 'B': '1959', 'C': '1960', 'D': '1973'}, 'answer': 'B'}, {'question': 'Which book introduced a theoretical neural structure formed by certain interactions among nerve cells?', 'options': {'A': 'The Organization of Behavior', 'B': 'Learning Machines', 'C': 'Computing Machinery and Intelligence', 'D': 'Research into Machine Learning'}, 'answer': 'A'}, {'question': 'What was the purpose of the Cybertron machine developed by Raytheon Company?', 'options': {'A': 'To analyze sonar signals', 'B': 'To analyze electrocardiograms', 'C': 'To analyze speech patterns', 'D': 'All of the above'}, 'answer': 'D'}, {'question': 'What are the two objectives of modern-day machine learning?', 'options': {'A': 'To classify data and make predictions', 'B': 'To analyze sonar signals and electrocardiograms', 'C': 'To study human cognitive processes', 'D': 'To develop theoretical neural structures'}, 'answer': 'A'}])])"
      ]
     },
     "execution_count": 49,
     "metadata": {},
     "output_type": "execute_result"
    }
   ],
   "source": [
    "quiz.items()"
   ]
  },
  {
   "cell_type": "code",
   "execution_count": 51,
   "metadata": {},
   "outputs": [],
   "source": [
    "quiz_table_data = []\n",
    "\n",
    "for mcq in quiz[\"mcqs\"]:\n",
    "    question = mcq[\"question\"]\n",
    "    options = \" | \".join(\n",
    "        [\n",
    "            f\"{option_key}: {option_value}\"\n",
    "            for option_key, option_value in mcq[\"options\"].items()\n",
    "        ],\n",
    "    )\n",
    "    correct_answer = mcq[\"answer\"]\n",
    "\n",
    "    quiz_table_data.append(\n",
    "        {\"MCQ\": question, \"Choices\": options, \"Correct\": correct_answer},\n",
    "    )"
   ]
  },
  {
   "cell_type": "code",
   "execution_count": 52,
   "metadata": {},
   "outputs": [
    {
     "data": {
      "text/plain": [
       "[{'MCQ': \"Who coined the term 'machine learning'?\",\n",
       "  'Choices': 'A: Arthur Samuel | B: Donald Hebb | C: Walter Pitts | D: Warren McCulloch',\n",
       "  'Correct': 'A'},\n",
       " {'MCQ': \"In which year was the term 'machine learning' coined?\",\n",
       "  'Choices': 'A: 1950 | B: 1959 | C: 1960 | D: 1973',\n",
       "  'Correct': 'B'},\n",
       " {'MCQ': 'Which book introduced a theoretical neural structure formed by certain interactions among nerve cells?',\n",
       "  'Choices': 'A: The Organization of Behavior | B: Learning Machines | C: Computing Machinery and Intelligence | D: Research into Machine Learning',\n",
       "  'Correct': 'A'},\n",
       " {'MCQ': 'What was the purpose of the Cybertron machine developed by Raytheon Company?',\n",
       "  'Choices': 'A: To analyze sonar signals | B: To analyze electrocardiograms | C: To analyze speech patterns | D: All of the above',\n",
       "  'Correct': 'D'},\n",
       " {'MCQ': 'What are the two objectives of modern-day machine learning?',\n",
       "  'Choices': 'A: To classify data and make predictions | B: To analyze sonar signals and electrocardiograms | C: To study human cognitive processes | D: To develop theoretical neural structures',\n",
       "  'Correct': 'A'}]"
      ]
     },
     "execution_count": 52,
     "metadata": {},
     "output_type": "execute_result"
    }
   ],
   "source": [
    "quiz_table_data"
   ]
  },
  {
   "cell_type": "code",
   "execution_count": 55,
   "metadata": {},
   "outputs": [],
   "source": [
    "quiz = pd.DataFrame(quiz_table_data)"
   ]
  },
  {
   "cell_type": "code",
   "execution_count": 56,
   "metadata": {},
   "outputs": [],
   "source": [
    "quiz.to_csv(\"machinelearning.csv\", index=False)"
   ]
  },
  {
   "cell_type": "code",
   "execution_count": 9,
   "metadata": {},
   "outputs": [
    {
     "data": {
      "text/plain": [
       "'2024_01_02_19_22_25'"
      ]
     },
     "execution_count": 9,
     "metadata": {},
     "output_type": "execute_result"
    }
   ],
   "source": [
    "from datetime import datetime\n",
    "import pytz\n",
    "\n",
    "datetime.now(pytz.timezone(\"Europe/Zurich\")).strftime(\"%Y_%m_%d_%H_%M_%S\")"
   ]
  }
 ],
 "metadata": {
  "kernelspec": {
   "display_name": "Python 3",
   "language": "python",
   "name": "python3"
  },
  "language_info": {
   "codemirror_mode": {
    "name": "ipython",
    "version": 3
   },
   "file_extension": ".py",
   "mimetype": "text/x-python",
   "name": "python",
   "nbconvert_exporter": "python",
   "pygments_lexer": "ipython3",
   "version": "3.8.18"
  }
 },
 "nbformat": 4,
 "nbformat_minor": 2
}
